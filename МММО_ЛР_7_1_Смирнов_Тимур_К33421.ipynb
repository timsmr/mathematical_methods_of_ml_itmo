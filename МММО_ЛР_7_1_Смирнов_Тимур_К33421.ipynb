{
  "nbformat": 4,
  "nbformat_minor": 0,
  "metadata": {
    "colab": {
      "provenance": []
    },
    "kernelspec": {
      "display_name": "Python 3",
      "language": "python",
      "name": "python3"
    },
    "language_info": {
      "codemirror_mode": {
        "name": "ipython",
        "version": 3
      },
      "file_extension": ".py",
      "mimetype": "text/x-python",
      "name": "python",
      "nbconvert_exporter": "python",
      "pygments_lexer": "ipython3",
      "version": "3.6.5"
    },
    "accelerator": "GPU",
    "gpuClass": "standard"
  },
  "cells": [
    {
      "cell_type": "markdown",
      "metadata": {
        "id": "vcnGdgw_YJ8u"
      },
      "source": [
        "# PyTorch. Основы: синтаксис, torch.cuda и torch.autograd\n",
        "\n",
        "## Задание 7.1"
      ]
    },
    {
      "cell_type": "code",
      "metadata": {
        "id": "RtyozNmmYJ89"
      },
      "source": [
        "import torch\n",
        "import matplotlib.pyplot as plt"
      ],
      "execution_count": null,
      "outputs": []
    },
    {
      "cell_type": "markdown",
      "metadata": {
        "id": "ny4-Qi2wYJ-6"
      },
      "source": [
        "### Задача 1"
      ]
    },
    {
      "cell_type": "markdown",
      "metadata": {
        "id": "IWxlFq0bYJ-_"
      },
      "source": [
        "1). Создайте два вещественных тензора: `a` размером (3, 4) и `b` размером (12,)   \n",
        "2). Создайте тензор `c`, являющийся тензором `b`, но размера (2, 2, 3)  \n",
        "3). Выведите первый столбец матрицы `a` с помощью индексации"
      ]
    },
    {
      "cell_type": "code",
      "metadata": {
        "id": "3oxZuk3yYJ_A",
        "colab": {
          "base_uri": "https://localhost:8080/"
        },
        "outputId": "909ebb6b-add1-4c6c-c781-21e95cd71167"
      },
      "source": [
        "a = torch.FloatTensor(3, 4)\n",
        "b = torch.FloatTensor(12,)\n",
        "\n",
        "c = b.view(2, 2, 3)\n",
        "\n",
        "a"
      ],
      "execution_count": null,
      "outputs": [
        {
          "output_type": "execute_result",
          "data": {
            "text/plain": [
              "tensor([[6.1337e-34, 0.0000e+00, 3.7835e-44, 0.0000e+00],\n",
              "        [       nan, 0.0000e+00, 1.3733e-14, 6.4069e+02],\n",
              "        [4.3066e+21, 1.1824e+22, 4.3066e+21, 6.3828e+28]])"
            ]
          },
          "metadata": {},
          "execution_count": 2
        }
      ]
    },
    {
      "cell_type": "code",
      "source": [
        "a[:, 0]"
      ],
      "metadata": {
        "colab": {
          "base_uri": "https://localhost:8080/"
        },
        "id": "MrhdyypxfIn8",
        "outputId": "45779662-914b-4366-895a-cb2b29d99119"
      },
      "execution_count": null,
      "outputs": [
        {
          "output_type": "execute_result",
          "data": {
            "text/plain": [
              "tensor([6.1337e-34,        nan, 4.3066e+21])"
            ]
          },
          "metadata": {},
          "execution_count": 3
        }
      ]
    },
    {
      "cell_type": "markdown",
      "metadata": {
        "id": "D2IP_FrKYKAA"
      },
      "source": [
        "### Задача 2"
      ]
    },
    {
      "cell_type": "markdown",
      "metadata": {
        "id": "tBZFbSYQYKAA"
      },
      "source": [
        "1). Создайте два вещественных тензора: `a` размером (5, 2) и `b` размером (1,10)   \n",
        "2). Создайте тензор `c`, являющийся тензором `b`, но размера (5, 2)  \n",
        "3). Произведите все арифметические операции с тензорами `a` и `c`"
      ]
    },
    {
      "cell_type": "code",
      "metadata": {
        "id": "hzs2bH3GYKAB"
      },
      "source": [
        "a = torch.FloatTensor(5, 2)\n",
        "b = torch.FloatTensor(1, 10)\n",
        "\n",
        "c = b.view(5, 2)"
      ],
      "execution_count": null,
      "outputs": []
    },
    {
      "cell_type": "code",
      "source": [
        "print(a)\n",
        "print('---------')\n",
        "print(b)\n",
        "print('---------')\n",
        "print(c)"
      ],
      "metadata": {
        "colab": {
          "base_uri": "https://localhost:8080/"
        },
        "id": "6TzwBSwNfrMw",
        "outputId": "25107afc-d373-474e-fc67-bb38209e9123"
      },
      "execution_count": null,
      "outputs": [
        {
          "output_type": "stream",
          "name": "stdout",
          "text": [
            "tensor([[6.1338e-34, 0.0000e+00],\n",
            "        [1.4013e-45, 0.0000e+00],\n",
            "        [2.8026e-45, 0.0000e+00],\n",
            "        [1.3788e-14, 3.6423e-06],\n",
            "        [2.0699e-19, 3.3738e-12]])\n",
            "---------\n",
            "tensor([[6.1338e-34, 0.0000e+00, 1.3733e-14, 6.4069e+02, 4.3066e+21, 1.1824e+22,\n",
            "         4.3066e+21, 6.3828e+28, 0.0000e+00, 0.0000e+00]])\n",
            "---------\n",
            "tensor([[6.1338e-34, 0.0000e+00],\n",
            "        [1.3733e-14, 6.4069e+02],\n",
            "        [4.3066e+21, 1.1824e+22],\n",
            "        [4.3066e+21, 6.3828e+28],\n",
            "        [0.0000e+00, 0.0000e+00]])\n"
          ]
        }
      ]
    },
    {
      "cell_type": "code",
      "source": [
        "a.add(c)"
      ],
      "metadata": {
        "colab": {
          "base_uri": "https://localhost:8080/"
        },
        "id": "C3n-16IYgHAd",
        "outputId": "a203d3b9-f527-4ca0-8318-5a5a562be605"
      },
      "execution_count": null,
      "outputs": [
        {
          "output_type": "execute_result",
          "data": {
            "text/plain": [
              "tensor([[1.2268e-33, 0.0000e+00],\n",
              "        [1.3733e-14, 6.4069e+02],\n",
              "        [4.3066e+21, 1.1824e+22],\n",
              "        [4.3066e+21, 6.3828e+28],\n",
              "        [2.0699e-19, 3.3738e-12]])"
            ]
          },
          "metadata": {},
          "execution_count": 6
        }
      ]
    },
    {
      "cell_type": "code",
      "source": [
        "a.sub(c)"
      ],
      "metadata": {
        "colab": {
          "base_uri": "https://localhost:8080/"
        },
        "id": "6g3RRDsQgVjO",
        "outputId": "7c356a60-ffd2-44c7-d7e6-e239329b8a5f"
      },
      "execution_count": null,
      "outputs": [
        {
          "output_type": "execute_result",
          "data": {
            "text/plain": [
              "tensor([[-2.9387e-39,  0.0000e+00],\n",
              "        [-1.3733e-14, -6.4069e+02],\n",
              "        [-4.3066e+21, -1.1824e+22],\n",
              "        [-4.3066e+21, -6.3828e+28],\n",
              "        [ 2.0699e-19,  3.3738e-12]])"
            ]
          },
          "metadata": {},
          "execution_count": 7
        }
      ]
    },
    {
      "cell_type": "code",
      "source": [
        "a.mul(c)"
      ],
      "metadata": {
        "colab": {
          "base_uri": "https://localhost:8080/"
        },
        "id": "pSw2Sbo8gYt0",
        "outputId": "7ecff976-f86b-4770-a149-38146d31e61c"
      },
      "execution_count": null,
      "outputs": [
        {
          "output_type": "execute_result",
          "data": {
            "text/plain": [
              "tensor([[0.0000e+00, 0.0000e+00],\n",
              "        [0.0000e+00, 0.0000e+00],\n",
              "        [1.2070e-23, 0.0000e+00],\n",
              "        [5.9379e+07, 2.3248e+23],\n",
              "        [0.0000e+00, 0.0000e+00]])"
            ]
          },
          "metadata": {},
          "execution_count": 8
        }
      ]
    },
    {
      "cell_type": "code",
      "source": [
        "a.div(c)"
      ],
      "metadata": {
        "colab": {
          "base_uri": "https://localhost:8080/"
        },
        "id": "Ep-EmU7lgcko",
        "outputId": "9be85c32-accc-4f01-fbe9-bfa1550f3644"
      },
      "execution_count": null,
      "outputs": [
        {
          "output_type": "execute_result",
          "data": {
            "text/plain": [
              "tensor([[1.0000e+00,        nan],\n",
              "        [1.0204e-31, 0.0000e+00],\n",
              "        [0.0000e+00, 0.0000e+00],\n",
              "        [3.2016e-36, 5.7064e-35],\n",
              "        [       inf,        inf]])"
            ]
          },
          "metadata": {},
          "execution_count": 9
        }
      ]
    },
    {
      "cell_type": "markdown",
      "metadata": {
        "id": "rIaroFO6YKBT"
      },
      "source": [
        "### Задача 3"
      ]
    },
    {
      "cell_type": "markdown",
      "metadata": {
        "id": "GfLHVvKvYKBT"
      },
      "source": [
        "1). Создайте тензор *целых чисел* `images` размерности (100, 200, 200, 3) (можно интерпретировать это как 100 картинок размера 200х200 с тремя цветовыми каналами, то есть 100 цветных изображений 200х200). Заполните его нулями  \n",
        "\n",
        "2). Сделайте так, чтобы у $i$-ой по порядку картинки была нарисована белая полоса толщиной два пикселя в строках, которые соответствуют номеру картинки. Например, у 3-ей по порядку картинки белая полоска будет занимать 6 и 7 строки, у 99 - 198 и 199. Сделать белую строку можно, записав в ячейки тензора число 255 (по всем трём каналам). Выведите несколько примеров с помощью `pylot`  \n",
        "\n",
        "3). Посчитайте среднее тензора `images` по 1-ой оси (по сути - средняя картинка), умножьте полученный тензор на 70. Нарисуйте с помощью `pyplot`, должна получиться серая картинка (при взятии среднего нужно привести тензор к float с помощью `.float()`, при отрисовке обратно к int с помощью `.int()`)"
      ]
    },
    {
      "cell_type": "code",
      "metadata": {
        "id": "pZVGHEQQYKBU"
      },
      "source": [
        "images = torch.IntTensor(100, 200, 200, 3).zero_()"
      ],
      "execution_count": null,
      "outputs": []
    },
    {
      "cell_type": "code",
      "source": [
        "for n in range(100):\n",
        "  images[n, n*2, :, :] = 255\n",
        "  images[n, n*2 + 1, :, :] = 255"
      ],
      "metadata": {
        "id": "-viFuE7QiKB5"
      },
      "execution_count": null,
      "outputs": []
    },
    {
      "cell_type": "code",
      "source": [
        "plt.imshow(images[20])"
      ],
      "metadata": {
        "colab": {
          "base_uri": "https://localhost:8080/",
          "height": 286
        },
        "id": "tn0oXbjwJI01",
        "outputId": "a4b5cb7e-c791-471e-9851-0588c2b9877f"
      },
      "execution_count": null,
      "outputs": [
        {
          "output_type": "execute_result",
          "data": {
            "text/plain": [
              "<matplotlib.image.AxesImage at 0x7fec01c82430>"
            ]
          },
          "metadata": {},
          "execution_count": 20
        },
        {
          "output_type": "display_data",
          "data": {
            "text/plain": [
              "<Figure size 432x288 with 1 Axes>"
            ],
            "image/png": "[encoded data removed]"
          },
          "metadata": {
            "needs_background": "light"
          }
        }
      ]
    },
    {
      "cell_type": "code",
      "source": [
        "plt.imshow(images[77])"
      ],
      "metadata": {
        "colab": {
          "base_uri": "https://localhost:8080/",
          "height": 286
        },
        "id": "GixBdmjsJP-k",
        "outputId": "b8fe18ef-b3cb-4f65-b469-f051fcdc1f71"
      },
      "execution_count": null,
      "outputs": [
        {
          "output_type": "execute_result",
          "data": {
            "text/plain": [
              "<matplotlib.image.AxesImage at 0x7fec01c48130>"
            ]
          },
          "metadata": {},
          "execution_count": 21
        },
        {
          "output_type": "display_data",
          "data": {
            "text/plain": [
              "<Figure size 432x288 with 1 Axes>"
            ],
            "image/png": "[encoded data removed]"
          },
          "metadata": {
            "needs_background": "light"
          }
        }
      ]
    },
    {
      "cell_type": "code",
      "source": [
        "plt.imshow(images.float().mean(0).mul(70).int())"
      ],
      "metadata": {
        "colab": {
          "base_uri": "https://localhost:8080/",
          "height": 286
        },
        "id": "7U0yw5vkhJCk",
        "outputId": "7f13af84-71ff-41b6-f01e-96a77fb17897"
      },
      "execution_count": null,
      "outputs": [
        {
          "output_type": "execute_result",
          "data": {
            "text/plain": [
              "<matplotlib.image.AxesImage at 0x7fec145b8f10>"
            ]
          },
          "metadata": {},
          "execution_count": 12
        },
        {
          "output_type": "display_data",
          "data": {
            "text/plain": [
              "<Figure size 432x288 with 1 Axes>"
            ],
            "image/png": "[encoded data removed]"
          },
          "metadata": {
            "needs_background": "light"
          }
        }
      ]
    },
    {
      "cell_type": "markdown",
      "metadata": {
        "id": "oQnhq5ZdYKCu"
      },
      "source": [
        "### Задача 4"
      ]
    },
    {
      "cell_type": "markdown",
      "metadata": {
        "id": "UB95BhgTYKCu"
      },
      "source": [
        "- В Colab нажмите в меню сверху: `Runtime` -> `Change Runtime Type` -> `GPU`, где изначально стоит `None` (`Среда выполнение` - `Сменить среду выполнения`)\n",
        "- Объявите тензор `a` размера (2, 3, 4) и тензор `b` размера (1, 8, 3) на GPU, иницилизируйте их случайно равномерно (`.uniform_()`)\n",
        "- Затем измените форму тензора `b`, чтобы она совпадала с формой тензора `a`, получите тензор `c`  \n",
        "- Переместите `c` на CPU, переместите `a` на CPU  \n",
        "- Оберните их в `Variable()`\n",
        "- Объявите тензор `L = torch.mean((c - a) `**` 2)` и посчитайте градиент `L` по `c` ( то есть $\\frac{\\partial{L}}{\\partial{c}})$\n",
        "- Выведите градиент `L` по `c`"
      ]
    },
    {
      "cell_type": "code",
      "source": [
        "from torch.autograd import Variable"
      ],
      "metadata": {
        "id": "4qSWIDSbJoTN"
      },
      "execution_count": null,
      "outputs": []
    },
    {
      "cell_type": "code",
      "metadata": {
        "id": "WESOm5TCYKCv"
      },
      "source": [
        "a = torch.FloatTensor(2, 3, 4).uniform_().cuda()\n",
        "b = torch.FloatTensor(1, 8, 3).uniform_().cuda()"
      ],
      "execution_count": null,
      "outputs": []
    },
    {
      "cell_type": "code",
      "source": [
        "c = b.view(a.shape)"
      ],
      "metadata": {
        "id": "BRDIzz7SJPtq"
      },
      "execution_count": null,
      "outputs": []
    },
    {
      "cell_type": "code",
      "source": [
        "a = Variable(a.cpu(), requires_grad=True)\n",
        "c = Variable(c.cpu(), requires_grad=True)"
      ],
      "metadata": {
        "id": "hZ5rjuicJdf5"
      },
      "execution_count": null,
      "outputs": []
    },
    {
      "cell_type": "code",
      "source": [
        "L = torch.mean((c - a)**2)"
      ],
      "metadata": {
        "id": "dA6dxYwBL4PR"
      },
      "execution_count": null,
      "outputs": []
    },
    {
      "cell_type": "code",
      "source": [
        "L.backward()"
      ],
      "metadata": {
        "id": "_HM4qw1bnpI7"
      },
      "execution_count": null,
      "outputs": []
    },
    {
      "cell_type": "code",
      "source": [
        "c.grad"
      ],
      "metadata": {
        "colab": {
          "base_uri": "https://localhost:8080/"
        },
        "id": "GDU-IiTjVlrX",
        "outputId": "186832ff-dba3-4f86-ae8f-6557ad9238bc"
      },
      "execution_count": null,
      "outputs": [
        {
          "output_type": "execute_result",
          "data": {
            "text/plain": [
              "tensor([[[ 0.0731,  0.0463,  0.0277, -0.0415],\n",
              "         [-0.0090,  0.0218, -0.0216, -0.0015],\n",
              "         [-0.0237,  0.0130,  0.0287,  0.0082]],\n",
              "\n",
              "        [[-0.0114, -0.0192,  0.0149,  0.0210],\n",
              "         [ 0.0413, -0.0330, -0.0254,  0.0104],\n",
              "         [-0.0011, -0.0122,  0.0389,  0.0612]]])"
            ]
          },
          "metadata": {},
          "execution_count": 19
        }
      ]
    }
  ]
}