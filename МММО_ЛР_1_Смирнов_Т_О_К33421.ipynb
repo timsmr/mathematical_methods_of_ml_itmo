{
  "nbformat": 4,
  "nbformat_minor": 0,
  "metadata": {
    "colab": {
      "provenance": [],
      "collapsed_sections": [
        "MFKSC2UUA7Ne",
        "Mth2u7nzAiqw",
        "JrEY8hzdfmM2",
        "mrm41pzufmNy",
        "2kJObRBHfmOd",
        "ylh_09YIfmOg",
        "QeBH-jT4fmOy"
      ]
    },
    "kernelspec": {
      "display_name": "Python 3",
      "language": "python",
      "name": "python3"
    },
    "language_info": {
      "codemirror_mode": {
        "name": "ipython",
        "version": 3
      },
      "file_extension": ".py",
      "mimetype": "text/x-python",
      "name": "python",
      "nbconvert_exporter": "python",
      "pygments_lexer": "ipython3",
      "version": "3.7.4"
    }
  },
  "cells": [
    {
      "cell_type": "markdown",
      "source": [
        "Перед началом выполнения, сделайте копию этого colab'а. Чтобы сделать копию нужно в пункте меню Файл выбрать \"Сохранить копию на диске\""
      ],
      "metadata": {
        "id": "131T1pm5PaF4"
      }
    },
    {
      "cell_type": "code",
      "source": [
        "import numpy as np\n",
        "import matplotlib.pyplot as plt\n",
        "import cv2\n",
        "from scipy.optimize import golden, minimize"
      ],
      "metadata": {
        "id": "TvquqBQWlj0I"
      },
      "execution_count": null,
      "outputs": []
    },
    {
      "cell_type": "markdown",
      "metadata": {
        "id": "BsNwjQDRfmLY"
      },
      "source": [
        "# Задание 1"
      ]
    },
    {
      "cell_type": "markdown",
      "metadata": {
        "id": "wu6r1-s7fmLe"
      },
      "source": [
        "---"
      ]
    },
    {
      "cell_type": "markdown",
      "metadata": {
        "id": "zxRIdPO9gYyX"
      },
      "source": [
        "Напишите программу, которая будет решать систему линейных уравнений вида:\n",
        "\n",
        "\\begin{matrix} a_{11}x+a_{12}y=b_{1}&(1) \\\\ a_{21}x+a_{22}y=b_{2} &(2) \\end{matrix}\n",
        "​\n",
        "На вход программа должна принимать 2 строки.\n",
        "\n",
        "Каждая строка содержит 3 действительных числа через пробел: коэффициенты a и b.\n",
        "\n",
        "На выходе программа должна выдавать значения x и y в одну строку через пробел.\n",
        "\n",
        "\n",
        "Примечание 1. Для разделения строки на отдельные элементы используйте функцию split()\n",
        "\n",
        "Примечание 2. В качестве разделителя между целой и дробной частью используйте точку, например 0.2"
      ]
    },
    {
      "cell_type": "code",
      "metadata": {
        "id": "6sxlcLbVlrjl"
      },
      "source": [
        "def linan(str_1, str_2):\n",
        "  eq_1 = list(map(float, str_1.split()))\n",
        "  eq_2 = list(map(float, str_2.split()))\n",
        "  res = np.linalg.solve(\n",
        "      np.array([eq_1[:2], eq_2[:2]]),\n",
        "      np.array([eq_1[-1], eq_2[-1]])\n",
        "  )\n",
        "  return f'{res[0]} {res[1]}'"
      ],
      "execution_count": null,
      "outputs": []
    },
    {
      "cell_type": "code",
      "source": [
        "print(linan('2 5 1', '1 -10 3'))"
      ],
      "metadata": {
        "colab": {
          "base_uri": "https://localhost:8080/"
        },
        "id": "sXSfiaYREWEG",
        "outputId": "7e6c7efe-8582-488c-e83e-a33d4b6726f3"
      },
      "execution_count": null,
      "outputs": [
        {
          "output_type": "stream",
          "name": "stdout",
          "text": [
            "1.0 -0.2\n"
          ]
        }
      ]
    },
    {
      "cell_type": "markdown",
      "source": [
        "### Подсказка 1"
      ],
      "metadata": {
        "id": "kElPCFyiua9I"
      }
    },
    {
      "cell_type": "code",
      "source": [],
      "metadata": {
        "id": "jwjE2xldue0h"
      },
      "execution_count": null,
      "outputs": []
    },
    {
      "cell_type": "markdown",
      "metadata": {
        "id": "wLoVDMQnfmOv"
      },
      "source": [
        "# Задание 2"
      ]
    },
    {
      "cell_type": "markdown",
      "metadata": {
        "id": "6bmt_YF3fmOw"
      },
      "source": [
        "Напишите функцию `decorate_matrix`, которая получает на вход одно целое число больше единицы. Функция должна возвращать матрицу n на n, у которой на границах стоят единицы, а на всех остальных позициях(если остались позиции не на границах) стоят нули.\n",
        "\n",
        "Нужно сделать без использования  циклов.\n",
        "\n",
        "```\n",
        "# ожидаемый резальтат для аргумента 5\n",
        "array([[1., 1., 1., 1., 1.],\n",
        "[1., 0., 0., 0., 1.],\n",
        "[1., 0., 0., 0., 1.],\n",
        "[1., 0., 0., 0., 1.],\n",
        "[1., 1., 1., 1., 1.]])\n",
        "```\n",
        "\n"
      ]
    },
    {
      "cell_type": "code",
      "source": [
        "def decorate_matrix(n):\n",
        "  a = np.ones((n, n))\n",
        "  a[1:n-1, 1:n-1] = 0\n",
        "  return a"
      ],
      "metadata": {
        "id": "4qlG1YGwsig7"
      },
      "execution_count": null,
      "outputs": []
    },
    {
      "cell_type": "code",
      "source": [
        "decorate_matrix(5)"
      ],
      "metadata": {
        "colab": {
          "base_uri": "https://localhost:8080/"
        },
        "id": "QelmqqziEYvf",
        "outputId": "9a63adc8-e940-4a56-e720-9d7f545fe214"
      },
      "execution_count": null,
      "outputs": [
        {
          "output_type": "execute_result",
          "data": {
            "text/plain": [
              "array([[1., 1., 1., 1., 1.],\n",
              "       [1., 0., 0., 0., 1.],\n",
              "       [1., 0., 0., 0., 1.],\n",
              "       [1., 0., 0., 0., 1.],\n",
              "       [1., 1., 1., 1., 1.]])"
            ]
          },
          "metadata": {},
          "execution_count": 13
        }
      ]
    },
    {
      "cell_type": "markdown",
      "metadata": {
        "id": "75sxny1zSCbl"
      },
      "source": [
        "# Задание 3"
      ]
    },
    {
      "cell_type": "markdown",
      "metadata": {
        "id": "2Xq1tBBAS5UJ"
      },
      "source": [
        "1) реализуйте 2 функции:\n",
        "\n",
        "$f(x) = (x+a)^2 - b$\n",
        "\n",
        "$g(x) = |f(x)|$\n",
        "\n",
        "2) Найдите аргументы, при которых достигается минимум функций $f(x)$ и $g(x)$\n",
        "\n",
        "Пример.\n",
        "Входные значение: $a=3$ и $b=4$\n",
        "\n",
        "Выходные значения:\n",
        "\n",
        "`-3.0 -1.0`"
      ]
    },
    {
      "cell_type": "code",
      "source": [
        "a, b = 3, 4\n",
        "\n",
        "def f(x):\n",
        "  return((x + a) ** 2 - b)\n",
        "\n",
        "def g(x):\n",
        "  return np.abs(f(x))\n",
        "\n",
        "def fmin(func):\n",
        "  return golden(func, brack=(-10, -4), full_output=True)\n",
        "\n",
        "\n",
        "min_f = fmin(f)[0]\n",
        "min_g = np.array([fmin(g)[0], minimize(g, [-10], method='trust-constr').x[0]])\n",
        "print(np.round(min_f, 3))\n",
        "print(np.round(min_g, 3))"
      ],
      "metadata": {
        "colab": {
          "base_uri": "https://localhost:8080/"
        },
        "id": "5abXSAmWtHfw",
        "outputId": "c9769dbe-0b0f-43c5-f7ee-ac5296dbb2e1"
      },
      "execution_count": null,
      "outputs": [
        {
          "output_type": "stream",
          "name": "stdout",
          "text": [
            "-3.0\n",
            "[-5. -1.]\n"
          ]
        }
      ]
    },
    {
      "cell_type": "markdown",
      "metadata": {
        "id": "efml9GzISC9Q"
      },
      "source": [
        "# Задание 4"
      ]
    },
    {
      "cell_type": "markdown",
      "metadata": {
        "id": "SDZvKcsTVbAW"
      },
      "source": [
        "Постройте графики для функций из предыдущего задания и отметьте другим цветом на графиках точки найденных минимумов."
      ]
    },
    {
      "cell_type": "code",
      "source": [
        "plt.rcParams[\"figure.figsize\"] = (8,10)\n",
        "\n",
        "x = np.linspace(-10, 5, num=100)\n",
        "y_f = f(x)\n",
        "y_g = g(x)\n",
        "\n",
        "figure, axis = plt.subplots(2, 1)\n",
        "axis[0].plot(x, y_f, min_f, f(min_f), 'ro')\n",
        "axis[1].plot(x, y_g, min_g, g(min_g), 'ro')\n",
        "\n",
        "plt.show()"
      ],
      "metadata": {
        "colab": {
          "base_uri": "https://localhost:8080/",
          "height": 592
        },
        "id": "7aMrSP7itnG3",
        "outputId": "377706f8-a2ea-4b31-eb44-d5e5a6f6e75c"
      },
      "execution_count": null,
      "outputs": [
        {
          "output_type": "display_data",
          "data": {
            "text/plain": [
              "<Figure size 576x720 with 2 Axes>"
            ],
            "image/png": "[encoded data removed]"
          },
          "metadata": {
            "needs_background": "light"
          }
        }
      ]
    },
    {
      "cell_type": "markdown",
      "metadata": {
        "id": "mrby3EfiSDKJ"
      },
      "source": [
        "# Задание 5"
      ]
    },
    {
      "cell_type": "markdown",
      "metadata": {
        "id": "J6AZ8785VkQd"
      },
      "source": [
        "1000 человек бросают монетку. Каждый бросил 10 раз подряд.\n",
        "\n",
        "\n"
      ]
    },
    {
      "cell_type": "code",
      "source": [
        "def C(n, m):\n",
        "  return np.math.factorial(n) / np.math.factorial(n-m) / np.math.factorial(m)\n",
        "\n",
        "def bernulli(p, m, n):\n",
        "  return C(n, m) * p**m * (1-p)**(n-m)"
      ],
      "metadata": {
        "id": "pGXuG9KpS9aI"
      },
      "execution_count": null,
      "outputs": []
    },
    {
      "cell_type": "markdown",
      "source": [
        "1. Какова вероятность того, что хотя бы у одного человека монетка выпала 10 раз подряд той же самой стороной (орлом или решкой)?"
      ],
      "metadata": {
        "id": "VkIC7HFk69eb"
      }
    },
    {
      "cell_type": "code",
      "source": [
        "p_1 = 2 * (1/2) ** 10 # вероятность выпадения 10 раз одинаковой стороны у 1 человека\n",
        "res_p_1 = 1 - bernulli(p_1, 0, 1000)\n",
        "print(f'1. ОТВЕТ: {res_p_1:10f}')"
      ],
      "metadata": {
        "colab": {
          "base_uri": "https://localhost:8080/"
        },
        "id": "nqXzPWHUSTMe",
        "outputId": "4d08d32a-9af0-4c97-c5ae-56686f38774e"
      },
      "execution_count": null,
      "outputs": [
        {
          "output_type": "stream",
          "name": "stdout",
          "text": [
            "1. ОТВЕТ:   0.858440\n"
          ]
        }
      ]
    },
    {
      "cell_type": "markdown",
      "source": [
        " 2. Какова вероятность того, что хотя бы у одного человека монетка выпала 8 раз подряд той же самой стороной (орлом или решкой)?"
      ],
      "metadata": {
        "id": "rR1XkOlO65gO"
      }
    },
    {
      "cell_type": "code",
      "source": [
        "p_only_8 = 2 * (2 * (2 * (1/2) **10)) # вероятность выпадения ровно 8 раз подряд той же стороной у 1 человека\n",
        "p_only_9 = 2 * (2 * (1/2) ** 10) # вероятность выпадения ровно 9 раз подряд той же стороной у 1 человека\n",
        "\n",
        "p_2 = p_only_8 + p_only_9 + p_1 # вероятность выпадения 8 раз подряд той же самой стороной у 1 человека\n",
        "res_p_2 = 1 - bernulli(p_2, 0, 1000)\n",
        "print(f'2. ОТВЕТ: {res_p_2:10f}')"
      ],
      "metadata": {
        "colab": {
          "base_uri": "https://localhost:8080/"
        },
        "id": "SUClQfFOSczz",
        "outputId": "5b0ceb70-9cfa-479a-d51d-2a0caf07c16c"
      },
      "execution_count": null,
      "outputs": [
        {
          "output_type": "stream",
          "name": "stdout",
          "text": [
            "2. ОТВЕТ:   0.999999\n"
          ]
        }
      ]
    },
    {
      "cell_type": "markdown",
      "source": [
        "\n",
        " 3. Какова вероятность того, что ровно у троих человек из 1000 монетка выпала 10 раз подряд той же самой стороной (орлом или решкой)?"
      ],
      "metadata": {
        "id": "Tnkjkrxj67FO"
      }
    },
    {
      "cell_type": "code",
      "source": [
        "p_3 = 2 * (1/2) ** 10 # вероятность выпадения 10 раз одинаковой стороны у 1 человека\n",
        "res_p_3 = bernulli(p_3, 3, 1000)\n",
        "print(f'3. ОТВЕТ: {res_p_3:10f}')"
      ],
      "metadata": {
        "colab": {
          "base_uri": "https://localhost:8080/"
        },
        "id": "4smyAtJsSdPS",
        "outputId": "845d1a4a-8e84-433a-f68f-7e9cf3c1be33"
      },
      "execution_count": null,
      "outputs": [
        {
          "output_type": "stream",
          "name": "stdout",
          "text": [
            "3. ОТВЕТ:   0.176287\n"
          ]
        }
      ]
    }
  ]
}